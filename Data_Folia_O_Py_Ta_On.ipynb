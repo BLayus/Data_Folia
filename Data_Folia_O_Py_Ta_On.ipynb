{
  "nbformat": 4,
  "nbformat_minor": 0,
  "metadata": {
    "colab": {
      "name": "Data Folia O Py Ta On.ipynb",
      "provenance": [],
      "collapsed_sections": [],
      "authorship_tag": "ABX9TyPrZOLb0OKo0hmYCuYBedII",
      "include_colab_link": true
    },
    "kernelspec": {
      "name": "python3",
      "display_name": "Python 3"
    },
    "language_info": {
      "name": "python"
    }
  },
  "cells": [
    {
      "cell_type": "markdown",
      "metadata": {
        "id": "view-in-github",
        "colab_type": "text"
      },
      "source": [
        "<a href=\"https://colab.research.google.com/github/BLayus/Data_Folia/blob/main/Data_Folia_O_Py_Ta_On.ipynb\" target=\"_parent\"><img src=\"https://colab.research.google.com/assets/colab-badge.svg\" alt=\"Open In Colab\"/></a>"
      ]
    },
    {
      "cell_type": "markdown",
      "source": [
        "### O Py-Tá-On"
      ],
      "metadata": {
        "id": "PLDepZM-JWbB"
      }
    },
    {
      "cell_type": "code",
      "source": [
        "# Crie uma lista de 3 elementos e calcule a terceira potência de cada elemento\n",
        "\n",
        "list_a = [2, 3, 5]\n",
        "\n",
        "for i in list_a:\n",
        "  print(i ** 3)\n"
      ],
      "metadata": {
        "colab": {
          "base_uri": "https://localhost:8080/"
        },
        "id": "HZaRO_hXJYL2",
        "outputId": "64fa0b2b-ca15-4b11-a9e0-aab1ebb73eff"
      },
      "execution_count": null,
      "outputs": [
        {
          "output_type": "stream",
          "name": "stdout",
          "text": [
            "8\n",
            "27\n",
            "125\n"
          ]
        }
      ]
    },
    {
      "cell_type": "code",
      "execution_count": null,
      "metadata": {
        "colab": {
          "base_uri": "https://localhost:8080/"
        },
        "id": "oYyB_GGgJJ1W",
        "outputId": "56492758-862c-43f5-e26f-afccea7a71fe"
      },
      "outputs": [
        {
          "output_type": "stream",
          "name": "stdout",
          "text": [
            "Digite uma frase: Eu AMO carnaval no RIO\n",
            "As Palavras da frase são:  ['Eu', 'AMO', 'carnaval', 'no', 'RIO']\n"
          ]
        }
      ],
      "source": [
        "\"\"\" Crie uma função que receba uma frase e, para cada palavra, retorne uma lista contendo a palavra original, sua versão\n",
        "minúscula e a quantidade de caracteres.\n",
        "Ex: 'Eu AMO Carnaval' deverá retornar:\n",
        "['Eu', 'eu', 2]\n",
        "['AMO', 'amo', 3]\n",
        "['Carnaval', 'carnaval', 8]\n",
        "\"\"\"\n",
        "\n",
        "frase = input(\"Digite uma frase: \")\n",
        "print('As Palavras da frase são: ', frase.split())\n"
      ]
    },
    {
      "cell_type": "code",
      "source": [
        "frase_split = frase.split()\n",
        "array_lista = []\n",
        "lista = []\n",
        "for palavra in frase_split:\n",
        "  lista.append(palavra)\n",
        "  lista.append(palavra.lower())\n",
        "  lista.append(len(palavra))\n",
        "\n",
        "print(lista)"
      ],
      "metadata": {
        "colab": {
          "base_uri": "https://localhost:8080/"
        },
        "id": "yY2NjWoONCBb",
        "outputId": "8ca4f34e-9fe9-46b6-fc29-64f6dc212e9b"
      },
      "execution_count": null,
      "outputs": [
        {
          "output_type": "stream",
          "name": "stdout",
          "text": [
            "['Eu', 'eu', 2, 'AMO', 'amo', 3, 'carnaval', 'carnaval', 8, 'no', 'no', 2, 'RIO', 'rio', 3]\n"
          ]
        }
      ]
    },
    {
      "cell_type": "code",
      "source": [
        "# Nova tentativa\n",
        "# Adicionar função pra remover acentos etc\n",
        "\n",
        "frase = input(\"Digite uma frase: \")\n",
        "\n",
        "def palavra_func(): \n",
        "    \n",
        "    frase_split = frase.split()\n",
        "    for palavra in frase_split:\n",
        "      print([palavra, palavra.lower(), len(palavra)])\n",
        "\n",
        "palavra_func()\n"
      ],
      "metadata": {
        "colab": {
          "base_uri": "https://localhost:8080/"
        },
        "id": "HdKFGFQhJl9m",
        "outputId": "12673c64-667c-4128-a86a-6b5aaf3e89f9"
      },
      "execution_count": null,
      "outputs": [
        {
          "output_type": "stream",
          "name": "stdout",
          "text": [
            "Digite uma frase: Adoramos Viajar no Carnaval\n",
            "['Adoramos', 'adoramos', 8]\n",
            "['Viajar', 'viajar', 6]\n",
            "['no', 'no', 2]\n",
            "['Carnaval', 'carnaval', 8]\n"
          ]
        }
      ]
    },
    {
      "cell_type": "code",
      "source": [
        "\"\"\" Abaixo você encontra duas listas. Faça com que cada elemento da listaA seja elevado ao elemento correspondente na\n",
        "listaB.\n",
        "listaA = [2, 3, 4]\n",
        "listaB = [10, 11, 12]\n",
        "\"\"\"\n",
        "\n",
        "listA = [2, 3, 4]\n",
        "listB = [10, 11, 12]\n",
        "sqr = list(map(lambda x, y: x**y, listA, listB))\n",
        "print(sqr)"
      ],
      "metadata": {
        "id": "WPT5auMTRuzd",
        "colab": {
          "base_uri": "https://localhost:8080/"
        },
        "outputId": "e73f8655-0642-44d6-fd13-4a2fed02777b"
      },
      "execution_count": null,
      "outputs": [
        {
          "output_type": "stream",
          "name": "stdout",
          "text": [
            "[1024, 177147, 16777216]\n"
          ]
        }
      ]
    },
    {
      "cell_type": "code",
      "source": [
        "# nova tentativa\n",
        "\n",
        "listA = [2, 3, 4]\n",
        "listB = [10, 11, 12]\n",
        "\n",
        "def squared(x,y):\n",
        "  for x, y in (listA, listB):\n",
        "    sqr = x**y\n",
        "\n",
        "\n",
        "print(sqr)"
      ],
      "metadata": {
        "colab": {
          "base_uri": "https://localhost:8080/"
        },
        "id": "KV4UgZJHf2V2",
        "outputId": "5bd11af3-4e3f-46c9-d18e-72c946b7f50d"
      },
      "execution_count": null,
      "outputs": [
        {
          "output_type": "stream",
          "name": "stdout",
          "text": [
            "[1024, 177147, 16777216]\n"
          ]
        }
      ]
    },
    {
      "cell_type": "code",
      "source": [
        "\"\"\" Considere os dois dicionários abaixo. Crie um terceiro dicionário com as chaves do dicionário 1 e os valores do\n",
        "dicionário 2.\n",
        "dict1 = {'a':1,'b':2}\n",
        "dict2 = {'c':4,'d':5}\n",
        "\"\"\"\n",
        "\n",
        "dict1 = {'a':1,'b':2}\n",
        "dict2 = {'c':4,'d':5}\n",
        "#dict3 = {}\n",
        "\n",
        "for k, v in (dict1.keys(), dict2.values()):\n",
        "  dic3keys = dict1.get(k)\n",
        "  dic3value = dict2.get(v)\n",
        "  \n",
        "print(dic3value)  "
      ],
      "metadata": {
        "id": "QETjozeaR0PN",
        "colab": {
          "base_uri": "https://localhost:8080/"
        },
        "outputId": "ed75eb79-19a8-4deb-eb89-ac4c34fa530f"
      },
      "execution_count": null,
      "outputs": [
        {
          "output_type": "stream",
          "name": "stdout",
          "text": [
            "None\n"
          ]
        }
      ]
    },
    {
      "cell_type": "code",
      "source": [
        "# Tentativa com melhor resultado\n",
        "\n",
        "dict1 = {'a':1,'b':2}\n",
        "dict2 = {'c':4,'d':5}\n",
        "\n",
        "dict3 = dict(zip(dict1.keys(), dict2.values()))\n",
        "dict3"
      ],
      "metadata": {
        "colab": {
          "base_uri": "https://localhost:8080/"
        },
        "id": "UETuvT8VrjNj",
        "outputId": "cc741152-718b-4b10-8c07-8ef846278bbc"
      },
      "execution_count": null,
      "outputs": [
        {
          "output_type": "execute_result",
          "data": {
            "text/plain": [
              "{'a': 4, 'b': 5}"
            ]
          },
          "metadata": {},
          "execution_count": 108
        }
      ]
    },
    {
      "cell_type": "code",
      "source": [
        "dicio3 = dict(zip(['a', 'b'], [4, 5]))\n",
        "dicio3"
      ],
      "metadata": {
        "colab": {
          "base_uri": "https://localhost:8080/"
        },
        "id": "tlztn1I6r7LT",
        "outputId": "e5a364e9-9cca-49ca-aa97-95e09074f53a"
      },
      "execution_count": null,
      "outputs": [
        {
          "output_type": "execute_result",
          "data": {
            "text/plain": [
              "{'a': 4, 'b': 5}"
            ]
          },
          "metadata": {},
          "execution_count": 105
        }
      ]
    },
    {
      "cell_type": "code",
      "source": [
        ""
      ],
      "metadata": {
        "id": "a7dZHRFN2yJA"
      },
      "execution_count": null,
      "outputs": []
    }
  ]
}